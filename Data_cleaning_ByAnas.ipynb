{
 "cells": [
  {
   "cell_type": "markdown",
   "metadata": {},
   "source": [
    "### Functions for data cleaning"
   ]
  },
  {
   "cell_type": "code",
   "execution_count": null,
   "metadata": {},
   "outputs": [],
   "source": [
    "def definemissing_int_float(df):\n",
    "    for col_name in df.columns: \n",
    "        if any(df[col_name].isnull()):\n",
    "            if df[col_name].dtype == 'int64' or df[col_name].dtype == 'float64':\n",
    "                    if df[col_name].mean() < 1: \n",
    "                        print(col_name, ' Mode for binarycol is ', df[col_name].mode()[0])\n",
    "                        print(col_name, ' Median for binarycol is ', df[col_name].median())\n",
    "                    else: \n",
    "                        print(col_name, ' Mode for nonbinarycol is', df[col_name].mode()[0])\n",
    "                        print(col_name, ' Median for nonbinarycol is ', df[col_name].median()) \n"
   ]
  },
  {
   "cell_type": "code",
   "execution_count": null,
   "metadata": {},
   "outputs": [],
   "source": [
    "def definemissing_other(df):\n",
    "    for col_name in df.columns:\n",
    "        if any(df[col_name].isnull()):\n",
    "            if df[col_name].dtype == 'int64' or not df[col_name].dtype == 'float64':\n",
    "                print(col_name, df[col_name].dtype)"
   ]
  },
  {
   "cell_type": "code",
   "execution_count": null,
   "metadata": {},
   "outputs": [],
   "source": [
    "def missing(dt):\n",
    "    for col_name in dt.columns: \n",
    "        if dt[col_name].dtype == 'int64' or dt[col_name].dtype == 'float64':\n",
    "            dt[col_name] = dt[col_name].fillna(dt[col_name].mode()[0])\n",
    "    return dt"
   ]
  },
  {
   "cell_type": "code",
   "execution_count": null,
   "metadata": {},
   "outputs": [],
   "source": [
    "def exploratoryData(df):\n",
    "    for col_name in df.columns: \n",
    "        print(col_name, 'type is ', df[col_name].dtypes, 'the number of missing is ', df[col_name].isnull().sum())\n",
    "        ##print(list(df[col_name]))"
   ]
  },
  {
   "cell_type": "code",
   "execution_count": null,
   "metadata": {},
   "outputs": [],
   "source": [
    "def toint(df):\n",
    "    for col_name in df.columns:\n",
    "            df[col_name] = df[col_name].astype(int)"
   ]
  },
  {
   "cell_type": "code",
   "execution_count": null,
   "metadata": {},
   "outputs": [],
   "source": [
    "dt['gender'][dt['gender'] == 1] = 'Male'\n",
    "dt['gender'][dt['gender'] == 2] = 'Female'"
   ]
  },
  {
   "cell_type": "code",
   "execution_count": null,
   "metadata": {},
   "outputs": [],
   "source": [
    "dt['nationality'][dt['nationality'] == 1] = 'Saudi'\n",
    "dt['nationality'][dt['nationality'] == 2] = 'Non Saudi'"
   ]
  },
  {
   "cell_type": "code",
   "execution_count": null,
   "metadata": {},
   "outputs": [],
   "source": [
    "def correctdate(df,colname):\n",
    "    df[colname] = df[colname].replace(\"/\", \"-\", regex=True)\n",
    "    df[colname] = df[colname].replace(\"0\", \"nan\")\n",
    "    df[colname] = pd.to_datetime(df[colname], errors='coerce')\n",
    "correctdate(dt,'date of surgery')\n",
    "\n",
    "correctdate(dt,'date of last clinic visit before admission')\n",
    "\n",
    "correctdate(dt,'date of admission')\n",
    "\n",
    "correctdate(dt,'date of last follow up')\n",
    "\n",
    "correctdate(dt,'date of diagnosis')\n",
    "\n",
    "correctdate(dt,'date of death')\n",
    "\n",
    "correctdate(dt,'date of readmission')"
   ]
  },
  {
   "cell_type": "code",
   "execution_count": null,
   "metadata": {},
   "outputs": [],
   "source": []
  },
  {
   "cell_type": "code",
   "execution_count": null,
   "metadata": {},
   "outputs": [],
   "source": []
  },
  {
   "cell_type": "code",
   "execution_count": null,
   "metadata": {},
   "outputs": [],
   "source": []
  },
  {
   "cell_type": "code",
   "execution_count": null,
   "metadata": {},
   "outputs": [],
   "source": []
  }
 ],
 "metadata": {
  "kernelspec": {
   "display_name": "Python 3",
   "language": "python",
   "name": "python3"
  },
  "language_info": {
   "codemirror_mode": {
    "name": "ipython",
    "version": 3
   },
   "file_extension": ".py",
   "mimetype": "text/x-python",
   "name": "python",
   "nbconvert_exporter": "python",
   "pygments_lexer": "ipython3",
   "version": "3.7.3"
  }
 },
 "nbformat": 4,
 "nbformat_minor": 2
}
